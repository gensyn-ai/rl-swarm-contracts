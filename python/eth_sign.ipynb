{
 "cells": [
  {
   "cell_type": "code",
   "execution_count": 1,
   "id": "e1e34a36-5b09-44eb-bc47-93c19e374f85",
   "metadata": {},
   "outputs": [
    {
     "name": "stdout",
     "output_type": "stream",
     "text": [
      "Requirement already satisfied: web3 in ./.venv/lib/python3.13/site-packages (7.9.0)\n",
      "Requirement already satisfied: eth_account in ./.venv/lib/python3.13/site-packages (0.13.5)\n",
      "Requirement already satisfied: eth-abi>=5.0.1 in ./.venv/lib/python3.13/site-packages (from web3) (5.2.0)\n",
      "Requirement already satisfied: eth-hash>=0.5.1 in ./.venv/lib/python3.13/site-packages (from eth-hash[pycryptodome]>=0.5.1->web3) (0.7.1)\n",
      "Requirement already satisfied: eth-typing>=5.0.0 in ./.venv/lib/python3.13/site-packages (from web3) (5.2.0)\n",
      "Requirement already satisfied: eth-utils>=5.0.0 in ./.venv/lib/python3.13/site-packages (from web3) (5.2.0)\n",
      "Requirement already satisfied: hexbytes>=1.2.0 in ./.venv/lib/python3.13/site-packages (from web3) (1.3.0)\n",
      "Requirement already satisfied: aiohttp>=3.7.4.post0 in ./.venv/lib/python3.13/site-packages (from web3) (3.11.14)\n",
      "Requirement already satisfied: pydantic>=2.4.0 in ./.venv/lib/python3.13/site-packages (from web3) (2.10.6)\n",
      "Requirement already satisfied: requests>=2.23.0 in ./.venv/lib/python3.13/site-packages (from web3) (2.32.3)\n",
      "Requirement already satisfied: typing-extensions>=4.0.1 in ./.venv/lib/python3.13/site-packages (from web3) (4.13.0)\n",
      "Requirement already satisfied: types-requests>=2.0.0 in ./.venv/lib/python3.13/site-packages (from web3) (2.32.0.20250306)\n",
      "Requirement already satisfied: websockets<14.0.0,>=10.0.0 in ./.venv/lib/python3.13/site-packages (from web3) (13.1)\n",
      "Requirement already satisfied: pyunormalize>=15.0.0 in ./.venv/lib/python3.13/site-packages (from web3) (16.0.0)\n",
      "Requirement already satisfied: bitarray>=2.4.0 in ./.venv/lib/python3.13/site-packages (from eth_account) (3.2.0)\n",
      "Requirement already satisfied: eth-keyfile<0.9.0,>=0.7.0 in ./.venv/lib/python3.13/site-packages (from eth_account) (0.8.1)\n",
      "Requirement already satisfied: eth-keys>=0.4.0 in ./.venv/lib/python3.13/site-packages (from eth_account) (0.6.1)\n",
      "Requirement already satisfied: eth-rlp>=2.1.0 in ./.venv/lib/python3.13/site-packages (from eth_account) (2.2.0)\n",
      "Requirement already satisfied: rlp>=1.0.0 in ./.venv/lib/python3.13/site-packages (from eth_account) (4.1.0)\n",
      "Requirement already satisfied: ckzg>=2.0.0 in ./.venv/lib/python3.13/site-packages (from eth_account) (2.1.0)\n",
      "Requirement already satisfied: eth-tester<0.13.0b1,>=0.12.0b1 in ./.venv/lib/python3.13/site-packages (from eth-tester[py-evm]<0.13.0b1,>=0.12.0b1; extra == \"tester\"->web3[tester]) (0.12.1b1)\n",
      "Requirement already satisfied: py-geth>=5.1.0 in ./.venv/lib/python3.13/site-packages (from web3[tester]) (5.3.0)\n",
      "Requirement already satisfied: aiohappyeyeballs>=2.3.0 in ./.venv/lib/python3.13/site-packages (from aiohttp>=3.7.4.post0->web3) (2.6.1)\n",
      "Requirement already satisfied: aiosignal>=1.1.2 in ./.venv/lib/python3.13/site-packages (from aiohttp>=3.7.4.post0->web3) (1.3.2)\n",
      "Requirement already satisfied: attrs>=17.3.0 in ./.venv/lib/python3.13/site-packages (from aiohttp>=3.7.4.post0->web3) (25.3.0)\n",
      "Requirement already satisfied: frozenlist>=1.1.1 in ./.venv/lib/python3.13/site-packages (from aiohttp>=3.7.4.post0->web3) (1.5.0)\n",
      "Requirement already satisfied: multidict<7.0,>=4.5 in ./.venv/lib/python3.13/site-packages (from aiohttp>=3.7.4.post0->web3) (6.2.0)\n",
      "Requirement already satisfied: propcache>=0.2.0 in ./.venv/lib/python3.13/site-packages (from aiohttp>=3.7.4.post0->web3) (0.3.1)\n",
      "Requirement already satisfied: yarl<2.0,>=1.17.0 in ./.venv/lib/python3.13/site-packages (from aiohttp>=3.7.4.post0->web3) (1.18.3)\n",
      "Requirement already satisfied: parsimonious<0.11.0,>=0.10.0 in ./.venv/lib/python3.13/site-packages (from eth-abi>=5.0.1->web3) (0.10.0)\n",
      "Requirement already satisfied: pycryptodome<4,>=3.6.6 in ./.venv/lib/python3.13/site-packages (from eth-hash[pycryptodome]>=0.5.1->web3) (3.22.0)\n",
      "Requirement already satisfied: semantic_version>=2.6.0 in ./.venv/lib/python3.13/site-packages (from eth-tester<0.13.0b1,>=0.12.0b1->eth-tester[py-evm]<0.13.0b1,>=0.12.0b1; extra == \"tester\"->web3[tester]) (2.10.0)\n",
      "Requirement already satisfied: py-evm<0.11.0b0,>=0.10.0b0 in ./.venv/lib/python3.13/site-packages (from eth-tester[py-evm]<0.13.0b1,>=0.12.0b1; extra == \"tester\"->web3[tester]) (0.10.1b2)\n",
      "Requirement already satisfied: cytoolz>=0.10.1 in ./.venv/lib/python3.13/site-packages (from eth-utils>=5.0.0->web3) (1.0.1)\n",
      "Requirement already satisfied: annotated-types>=0.6.0 in ./.venv/lib/python3.13/site-packages (from pydantic>=2.4.0->web3) (0.7.0)\n",
      "Requirement already satisfied: pydantic-core==2.27.2 in ./.venv/lib/python3.13/site-packages (from pydantic>=2.4.0->web3) (2.27.2)\n",
      "Requirement already satisfied: charset-normalizer<4,>=2 in ./.venv/lib/python3.13/site-packages (from requests>=2.23.0->web3) (3.4.1)\n",
      "Requirement already satisfied: idna<4,>=2.5 in ./.venv/lib/python3.13/site-packages (from requests>=2.23.0->web3) (3.10)\n",
      "Requirement already satisfied: urllib3<3,>=1.21.1 in ./.venv/lib/python3.13/site-packages (from requests>=2.23.0->web3) (2.3.0)\n",
      "Requirement already satisfied: certifi>=2017.4.17 in ./.venv/lib/python3.13/site-packages (from requests>=2.23.0->web3) (2025.1.31)\n",
      "Requirement already satisfied: toolz>=0.8.0 in ./.venv/lib/python3.13/site-packages (from cytoolz>=0.10.1->eth-utils>=5.0.0->web3) (1.0.0)\n",
      "Requirement already satisfied: safe-pysha3>=1.0.0 in ./.venv/lib/python3.13/site-packages (from eth-hash>=0.5.1->eth-hash[pycryptodome]>=0.5.1->web3) (1.0.4)\n",
      "Requirement already satisfied: regex>=2022.3.15 in ./.venv/lib/python3.13/site-packages (from parsimonious<0.11.0,>=0.10.0->eth-abi>=5.0.1->web3) (2024.11.6)\n",
      "Requirement already satisfied: cached-property>=1.5.1 in ./.venv/lib/python3.13/site-packages (from py-evm<0.11.0b0,>=0.10.0b0->eth-tester[py-evm]<0.13.0b1,>=0.12.0b1; extra == \"tester\"->web3[tester]) (2.0.1)\n",
      "Requirement already satisfied: eth-bloom>=1.0.3 in ./.venv/lib/python3.13/site-packages (from py-evm<0.11.0b0,>=0.10.0b0->eth-tester[py-evm]<0.13.0b1,>=0.12.0b1; extra == \"tester\"->web3[tester]) (3.1.0)\n",
      "Requirement already satisfied: lru-dict>=1.1.6 in ./.venv/lib/python3.13/site-packages (from py-evm<0.11.0b0,>=0.10.0b0->eth-tester[py-evm]<0.13.0b1,>=0.12.0b1; extra == \"tester\"->web3[tester]) (1.3.0)\n",
      "Requirement already satisfied: py-ecc>=1.4.7 in ./.venv/lib/python3.13/site-packages (from py-evm<0.11.0b0,>=0.10.0b0->eth-tester[py-evm]<0.13.0b1,>=0.12.0b1; extra == \"tester\"->web3[tester]) (7.0.1)\n",
      "Requirement already satisfied: trie>=2.0.0 in ./.venv/lib/python3.13/site-packages (from py-evm<0.11.0b0,>=0.10.0b0->eth-tester[py-evm]<0.13.0b1,>=0.12.0b1; extra == \"tester\"->web3[tester]) (3.1.0)\n",
      "Requirement already satisfied: sortedcontainers>=2.1.0 in ./.venv/lib/python3.13/site-packages (from trie>=2.0.0->py-evm<0.11.0b0,>=0.10.0b0->eth-tester[py-evm]<0.13.0b1,>=0.12.0b1; extra == \"tester\"->web3[tester]) (2.4.0)\n"
     ]
    }
   ],
   "source": [
    "!pip install web3 eth_account \"web3[tester]\""
   ]
  },
  {
   "cell_type": "code",
   "execution_count": 2,
   "id": "6be438ee-1655-46d9-829f-135e4ba63c1d",
   "metadata": {},
   "outputs": [],
   "source": [
    "from web3 import Web3, EthereumTesterProvider\n",
    "from eth_account.messages import encode_defunct\n",
    "from eth_account import Account\n",
    "w3 = Web3(EthereumTesterProvider())"
   ]
  },
  {
   "cell_type": "code",
   "execution_count": 3,
   "id": "ca716054-dce8-4049-8670-9bfcb1bfc3a2",
   "metadata": {},
   "outputs": [
    {
     "name": "stdout",
     "output_type": "stream",
     "text": [
      "✅ Wallet Created!\n",
      "Address: 0xF5E94cB21d4A17Be60957429bC47eeFB1c6aB0f2\n",
      "Private Key: b2850e24441929ee22d1678ed468cd8042476190feac5cedbcac89320ad95738\n"
     ]
    }
   ],
   "source": [
    "# ---------------- STEP 1: CREATE A WALLET ----------------\n",
    "wallet = Account.create()\n",
    "WALLET_ADDRESS = wallet.address\n",
    "PRIVATE_KEY = wallet.key.hex()  # Store securely!\n",
    "\n",
    "print(f\"✅ Wallet Created!\\nAddress: {WALLET_ADDRESS}\\nPrivate Key: {PRIVATE_KEY}\")"
   ]
  },
  {
   "cell_type": "code",
   "execution_count": 4,
   "id": "68e2d850-b9b8-408d-99d5-3e3113bb6e54",
   "metadata": {},
   "outputs": [
    {
     "name": "stdout",
     "output_type": "stream",
     "text": [
      "message:  /ip4/127.0.0.1/tcp/4001/p2p/Qmnode1,0xF5E94cB21d4A17Be60957429bC47eeFB1c6aB0f2\n",
      "signed message:  SignedMessage(message_hash=HexBytes('0xf9a071943c7ed5d7068f15db5e84c74018abb38b0b2f6754076fd3b9b9c23031'), r=34583799130033700761317719841111519778944460400003371047873153682931403388800, s=68182085572413148707111856435060359180814689495786995887955384086874169172, v=28, signature=HexBytes('0x4c75bc9478fbda1e554dc2aed002a1c1ddd2839d68071ae06db4c8dc94baf780002696f61c999c4671b6fcace41995fce5ce27b52c63888b59360eac4f8e1f541c'))\n"
     ]
    }
   ],
   "source": [
    "msg = \"/ip4/127.0.0.1/tcp/4001/p2p/Qmnode1,\" + WALLET_ADDRESS\n",
    "message = encode_defunct(text=msg)\n",
    "signed_message = w3.eth.account.sign_message(message, private_key=PRIVATE_KEY)\n",
    "print(\"message: \", msg)\n",
    "print(\"signed message: \", signed_message)"
   ]
  },
  {
   "cell_type": "code",
   "execution_count": 5,
   "id": "d340aff4-2552-4f7e-8cec-178f8e86030a",
   "metadata": {},
   "outputs": [
    {
     "name": "stdout",
     "output_type": "stream",
     "text": [
      "Signer: 0xF5E94cB21d4A17Be60957429bC47eeFB1c6aB0f2 ✅\n"
     ]
    }
   ],
   "source": [
    "# Checking who signed the message\n",
    "signer = w3.eth.account.recover_message(message, signature=signed_message.signature)\n",
    "print(\"Signer:\", signer, \"✅\" if signer == WALLET_ADDRESS else \"❌\")"
   ]
  },
  {
   "cell_type": "code",
   "execution_count": 6,
   "id": "74066f4e-64fa-4a22-8cb0-1aebef33f94b",
   "metadata": {},
   "outputs": [
    {
     "name": "stdout",
     "output_type": "stream",
     "text": [
      "Signer: 0x672d97aEB37FAc0deC064D9E3712026285F758A3 ❌\n"
     ]
    }
   ],
   "source": [
    "# Malformed message (or signature) will generate a different account\n",
    "msg = \"different message\"\n",
    "message = encode_defunct(text=msg)\n",
    "malformed_message_signer = w3.eth.account.recover_message(message, signature=signed_message.signature)\n",
    "print(\"Signer:\", malformed_message_signer, \"✅\" if malformed_message_signer == WALLET_ADDRESS else \"❌\")"
   ]
  }
 ],
 "metadata": {
  "kernelspec": {
   "display_name": "Python 3 (ipykernel)",
   "language": "python",
   "name": "python3"
  },
  "language_info": {
   "codemirror_mode": {
    "name": "ipython",
    "version": 3
   },
   "file_extension": ".py",
   "mimetype": "text/x-python",
   "name": "python",
   "nbconvert_exporter": "python",
   "pygments_lexer": "ipython3",
   "version": "3.13.2"
  }
 },
 "nbformat": 4,
 "nbformat_minor": 5
}
