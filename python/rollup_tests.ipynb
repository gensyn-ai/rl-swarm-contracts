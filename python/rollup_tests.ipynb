{
 "cells": [
  {
   "cell_type": "code",
   "execution_count": 13,
   "metadata": {},
   "outputs": [
    {
     "name": "stdout",
     "output_type": "stream",
     "text": [
      "✅ Wallet Created!\n",
      "Address: 0x31C014E5f9ad130c5Cf7a4526886c9AcffeBD1A3\n",
      "Private Key: acdfd655510f3aedd17f38717d76db468e4aacb92a256722830435ebf75ee1b4\n"
     ]
    }
   ],
   "source": [
    "from web3 import Web3\n",
    "from eth_account import Account\n",
    "import json\n",
    "\n",
    "# ---------------- STEP 1: CREATE A WALLET ----------------\n",
    "wallet = Account.create()\n",
    "WALLET_ADDRESS = wallet.address\n",
    "PRIVATE_KEY = wallet.key.hex()  # Store securely!\n",
    "\n",
    "print(f\"✅ Wallet Created!\\nAddress: {WALLET_ADDRESS}\\nPrivate Key: {PRIVATE_KEY}\")"
   ]
  },
  {
   "cell_type": "code",
   "execution_count": 14,
   "metadata": {},
   "outputs": [
    {
     "name": "stdout",
     "output_type": "stream",
     "text": [
      "✅ Connected to Gensyn Testnet\n"
     ]
    }
   ],
   "source": [
    "\n",
    "# ---------------- STEP 2: CONNECT TO GENSYN TESTNET ----------------\n",
    "ALCHEMY_URL = \"https://gensyn-testnet.g.alchemy.com/public\"\n",
    "web3 = Web3(Web3.HTTPProvider(ALCHEMY_URL))\n",
    "\n",
    "if web3.is_connected():\n",
    "    print(\"✅ Connected to Gensyn Testnet\")\n",
    "else:\n",
    "    raise Exception(\"Failed to connect to Gensyn Testnet\")\n"
   ]
  },
  {
   "cell_type": "code",
   "execution_count": 25,
   "metadata": {},
   "outputs": [
    {
     "name": "stdout",
     "output_type": "stream",
     "text": [
      "💰 Wallet Balance: 0.011718599979570547 ETH\n"
     ]
    }
   ],
   "source": [
    "\n",
    "# ---------------- STEP 3: CHECK BALANCE ----------------\n",
    "balance = web3.eth.get_balance(WALLET_ADDRESS)\n",
    "eth_balance = web3.from_wei(balance, \"ether\")\n",
    "print(f\"💰 Wallet Balance: {eth_balance} ETH\")\n"
   ]
  },
  {
   "cell_type": "code",
   "execution_count": 16,
   "metadata": {},
   "outputs": [],
   "source": [
    "# ---------------- STEP 4: CONTRACT CONFIG ----------------\n",
    "\n",
    "with open('../out/SwarmCoordinator.sol/SwarmCoordinator.json', 'r') as f:\n",
    "   contract_abi = json.load(f)['abi']\n",
    "\n",
    "contract_address = \"0x6484a07281B72b8b541A86Ec055534223672c2fb\"\n",
    "contract = web3.eth.contract(address=contract_address, abi=contract_abi)\n"
   ]
  },
  {
   "cell_type": "code",
   "execution_count": 17,
   "metadata": {},
   "outputs": [
    {
     "name": "stdout",
     "output_type": "stream",
     "text": [
      "Current Round: 0\n",
      "Current Stage: 0\n"
     ]
    }
   ],
   "source": [
    "# ---------------- STEP 5: CURRENT ROUND, STAGE ----------------\n",
    "\n",
    "# Get the current round and stage\n",
    "current_round = contract.functions.currentRound().call()\n",
    "current_stage = contract.functions.currentStage().call()\n",
    "\n",
    "print(f\"Current Round: {current_round}\")\n",
    "print(f\"Current Stage: {current_stage}\")"
   ]
  },
  {
   "cell_type": "code",
   "execution_count": null,
   "metadata": {},
   "outputs": [
    {
     "name": "stdout",
     "output_type": "stream",
     "text": [
      "Transaction hash: 0x1d434db369d3f7a9aa1926fcaa0f5030065ce5ea4e67b1071b1a3dfdbb5f7fb5\n"
     ]
    }
   ],
   "source": [
    "# ---------------- STEP 6: REGISTER PEER ----------------\n",
    "\n",
    "# Peer ID and private key\n",
    "peer_id = \"grievepeer\"\n",
    "\n",
    "checksummed = Web3.to_checksum_address(WALLET_ADDRESS)\n",
    "nonce = web3.eth.get_transaction_count(checksummed)\n",
    "\n",
    "\n",
    "# Build the transaction\n",
    "txn = contract.functions.registerPeer(peer_id).build_transaction({\n",
    "    'chainId': 685685,  # Mainnet\n",
    "    'gas': 21604,\n",
    "    'gasPrice': web3.to_wei('50', 'gwei'),\n",
    "    'nonce': nonce,\n",
    "})\n",
    "\n",
    "# Sign the transaction\n",
    "signed_txn = web3.eth.account.sign_transaction(txn, private_key=PRIVATE_KEY)\n",
    "\n",
    "# Send the transaction\n",
    "tx_hash = web3.eth.send_raw_transaction(signed_txn.raw_transaction)\n",
    "\n",
    "# Print the transaction hash\n",
    "print(f\"Transaction hash: {web3.to_hex(tx_hash)}\")"
   ]
  },
  {
   "cell_type": "code",
   "execution_count": null,
   "metadata": {},
   "outputs": [
    {
     "name": "stdout",
     "output_type": "stream",
     "text": [
      "Transaction hash: 0xdd5ec8e067150d3c949df9bd671e4b0aeac6ba3b7164366dc70f4490be34b555\n"
     ]
    }
   ],
   "source": [
    "# ---------------- STEP 7: SUBMIT ANSWER ----------------\n",
    "\n",
    "# wallet addr and nonce\n",
    "checksummed = Web3.to_checksum_address(WALLET_ADDRESS)\n",
    "nonce = web3.eth.get_transaction_count(checksummed)\n",
    "\n",
    "payload = [\n",
    "\n",
    "]\n",
    "\n",
    "# Build the transaction\n",
    "txn = contract.functions.submitWinners(\n",
    "        0,\n",
    "        ['grievepeer'],\n",
    "    ).build_transaction({\n",
    "    'chainId': 685685,  # Mainnet\n",
    "    'gas': 10000000,\n",
    "    'gasPrice': web3.to_wei('10', 'gwei'),\n",
    "    'nonce': nonce,\n",
    "})\n",
    "\n",
    "# Sign the transaction\n",
    "signed_txn = web3.eth.account.sign_transaction(txn, private_key=PRIVATE_KEY)\n",
    "\n",
    "# Send the transaction\n",
    "tx_hash = web3.eth.send_raw_transaction(signed_txn.raw_transaction)\n",
    "\n",
    "# Print the transaction hash\n",
    "print(f\"Transaction hash: {web3.to_hex(tx_hash)}\")"
   ]
  },
  {
   "cell_type": "code",
   "execution_count": null,
   "metadata": {},
   "outputs": [],
   "source": []
  }
 ],
 "metadata": {
  "kernelspec": {
   "display_name": ".venv",
   "language": "python",
   "name": "python3"
  },
  "language_info": {
   "codemirror_mode": {
    "name": "ipython",
    "version": 3
   },
   "file_extension": ".py",
   "mimetype": "text/x-python",
   "name": "python",
   "nbconvert_exporter": "python",
   "pygments_lexer": "ipython3",
   "version": "3.13.2"
  }
 },
 "nbformat": 4,
 "nbformat_minor": 2
}
