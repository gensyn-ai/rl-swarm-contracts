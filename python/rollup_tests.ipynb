{
 "cells": [
  {
   "cell_type": "code",
   "execution_count": 1,
   "metadata": {},
   "outputs": [
    {
     "name": "stdout",
     "output_type": "stream",
     "text": [
      "✅ Wallet Created!\n",
      "Address: 0x0A63368eDC3C6EBaf1888616b8E528Ee7F6865A9\n",
      "Private Key: 0bd3fbdac4e8b6f0ab0547472dfcd38aefc83367c9909bf40fdd0f6440b530f0\n"
     ]
    }
   ],
   "source": [
    "from web3 import Web3\n",
    "from eth_account import Account\n",
    "\n",
    "# ---------------- STEP 1: CREATE A WALLET ----------------\n",
    "wallet = Account.create()\n",
    "WALLET_ADDRESS = wallet.address\n",
    "PRIVATE_KEY = wallet.key.hex()  # Store securely!\n",
    "\n",
    "print(f\"✅ Wallet Created!\\nAddress: {WALLET_ADDRESS}\\nPrivate Key: {PRIVATE_KEY}\")"
   ]
  },
  {
   "cell_type": "code",
   "execution_count": 2,
   "metadata": {},
   "outputs": [
    {
     "name": "stdout",
     "output_type": "stream",
     "text": [
      "✅ Connected to Gensyn Testnet\n"
     ]
    }
   ],
   "source": [
    "\n",
    "# ---------------- STEP 2: CONNECT TO GENSYN TESTNET ----------------\n",
    "ALCHEMY_URL = \"https://gensyn-testnet.g.alchemy.com/public\"\n",
    "web3 = Web3(Web3.HTTPProvider(ALCHEMY_URL))\n",
    "\n",
    "if web3.is_connected():\n",
    "    print(\"✅ Connected to Gensyn Testnet\")\n",
    "else:\n",
    "    raise Exception(\"Failed to connect to Gensyn Testnet\")\n"
   ]
  },
  {
   "cell_type": "code",
   "execution_count": 4,
   "metadata": {},
   "outputs": [
    {
     "name": "stdout",
     "output_type": "stream",
     "text": [
      "💰 Wallet Balance: 0.01 ETH\n"
     ]
    }
   ],
   "source": [
    "\n",
    "# ---------------- STEP 3: CHECK BALANCE ----------------\n",
    "balance = web3.eth.get_balance(WALLET_ADDRESS)\n",
    "eth_balance = web3.from_wei(balance, \"ether\")\n",
    "print(f\"💰 Wallet Balance: {eth_balance} ETH\")\n"
   ]
  }
 ],
 "metadata": {
  "kernelspec": {
   "display_name": ".venv",
   "language": "python",
   "name": "python3"
  },
  "language_info": {
   "codemirror_mode": {
    "name": "ipython",
    "version": 3
   },
   "file_extension": ".py",
   "mimetype": "text/x-python",
   "name": "python",
   "nbconvert_exporter": "python",
   "pygments_lexer": "ipython3",
   "version": "3.13.2"
  }
 },
 "nbformat": 4,
 "nbformat_minor": 2
}
