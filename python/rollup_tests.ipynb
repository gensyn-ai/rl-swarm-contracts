{
 "cells": [
  {
   "cell_type": "code",
   "execution_count": 5,
   "metadata": {},
   "outputs": [
    {
     "name": "stdout",
     "output_type": "stream",
     "text": [
      "✅ Wallet Created!\n",
      "Address: 0xCf3Bf20DDB7BA891a81a74d890D776E4EEECFb74\n",
      "Private Key: 5b51da12899cc7d65974064e7dfdc15cce4a62ab78bba4fc0dbc0e0492fc4036\n"
     ]
    }
   ],
   "source": [
    "from web3 import Web3\n",
    "from eth_account import Account\n",
    "\n",
    "# ---------------- STEP 1: CREATE A WALLET ----------------\n",
    "wallet = Account.create()\n",
    "WALLET_ADDRESS = wallet.address\n",
    "PRIVATE_KEY = wallet.key.hex()  # Store securely!\n",
    "\n",
    "print(f\"✅ Wallet Created!\\nAddress: {WALLET_ADDRESS}\\nPrivate Key: {PRIVATE_KEY}\")"
   ]
  },
  {
   "cell_type": "code",
   "execution_count": 93,
   "metadata": {},
   "outputs": [
    {
     "name": "stdout",
     "output_type": "stream",
     "text": [
      "✅ Connected to Gensyn Testnet\n"
     ]
    }
   ],
   "source": [
    "\n",
    "# ---------------- STEP 2: CONNECT TO GENSYN TESTNET ----------------\n",
    "ALCHEMY_URL = \"https://gensyn-testnet.g.alchemy.com/public\"\n",
    "web3 = Web3(Web3.HTTPProvider(ALCHEMY_URL))\n",
    "\n",
    "if web3.is_connected():\n",
    "    print(\"✅ Connected to Gensyn Testnet\")\n",
    "else:\n",
    "    raise Exception(\"Failed to connect to Gensyn Testnet\")\n"
   ]
  },
  {
   "cell_type": "code",
   "execution_count": 94,
   "metadata": {},
   "outputs": [
    {
     "name": "stdout",
     "output_type": "stream",
     "text": [
      "💰 Wallet Balance: 0.034893640919914966 ETH\n"
     ]
    }
   ],
   "source": [
    "\n",
    "# ---------------- STEP 3: CHECK BALANCE ----------------\n",
    "balance = web3.eth.get_balance(WALLET_ADDRESS)\n",
    "eth_balance = web3.from_wei(balance, \"ether\")\n",
    "print(f\"💰 Wallet Balance: {eth_balance} ETH\")\n"
   ]
  },
  {
   "cell_type": "code",
   "execution_count": 95,
   "metadata": {},
   "outputs": [],
   "source": [
    "# ---------------- STEP 4: CONTRACT CONFIG ----------------\n",
    "\n",
    "with open('../out/SwarmCoordinator.sol/SwarmCoordinator.json', 'r') as f:\n",
    "   contract_abi = json.load(f)['abi']\n",
    "\n",
    "contract_address = \"0x915674138096b84aa3CD05cB0F9c2EEE24b192C5\"\n",
    "contract = web3.eth.contract(address=contract_address, abi=contract_abi)\n"
   ]
  },
  {
   "cell_type": "code",
   "execution_count": 96,
   "metadata": {},
   "outputs": [
    {
     "name": "stdout",
     "output_type": "stream",
     "text": [
      "Current Round: 0\n",
      "Current Stage: 0\n"
     ]
    }
   ],
   "source": [
    "# ---------------- STEP 5: CURRENT ROUND, STAGE ----------------\n",
    "\n",
    "# Get the current round and stage\n",
    "current_round = contract.functions.currentRound().call()\n",
    "current_stage = contract.functions.currentStage().call()\n",
    "\n",
    "print(f\"Current Round: {current_round}\")\n",
    "print(f\"Current Stage: {current_stage}\")"
   ]
  },
  {
   "cell_type": "code",
   "execution_count": 97,
   "metadata": {},
   "outputs": [
    {
     "name": "stdout",
     "output_type": "stream",
     "text": [
      "Transaction hash: 0x92bf612c04f6eda428350afd5677458d929bca2d3bc01a508f6af5f51c261f6f\n"
     ]
    }
   ],
   "source": [
    "# ---------------- STEP 6: REGISTER PEER ----------------\n",
    "\n",
    "# Peer ID and private key\n",
    "peer_id = b\"grieve_peer\"\n",
    "\n",
    "checksummed = Web3.to_checksum_address(WALLET_ADDRESS)\n",
    "nonce = web3.eth.get_transaction_count(checksummed)\n",
    "\n",
    "\n",
    "# Build the transaction\n",
    "txn = contract.functions.registerPeer(peer_id).build_transaction({\n",
    "    'chainId': 685685,  # Mainnet\n",
    "    'gas': 500000,\n",
    "    'gasPrice': web3.to_wei('50', 'gwei'),\n",
    "    'nonce': nonce,\n",
    "})\n",
    "\n",
    "# Sign the transaction\n",
    "signed_txn = web3.eth.account.sign_transaction(txn, private_key=PRIVATE_KEY)\n",
    "\n",
    "# Send the transaction\n",
    "tx_hash = web3.eth.send_raw_transaction(signed_txn.raw_transaction)\n",
    "\n",
    "# Print the transaction hash\n",
    "print(f\"Transaction hash: {web3.to_hex(tx_hash)}\")"
   ]
  }
 ],
 "metadata": {
  "kernelspec": {
   "display_name": ".venv",
   "language": "python",
   "name": "python3"
  },
  "language_info": {
   "codemirror_mode": {
    "name": "ipython",
    "version": 3
   },
   "file_extension": ".py",
   "mimetype": "text/x-python",
   "name": "python",
   "nbconvert_exporter": "python",
   "pygments_lexer": "ipython3",
   "version": "3.13.2"
  }
 },
 "nbformat": 4,
 "nbformat_minor": 2
}
